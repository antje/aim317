{
 "cells": [
  {
   "cell_type": "markdown",
   "metadata": {},
   "source": [
    "# EKS CSI FSX Lustre Setup\n",
    "\n",
    "Amazon FSx for Lustre is a high-performance file system optimized for deep learning workloads. FSx provides POSIX-compliant file system access to S3 for multiple readers and writers simultaneously.\n",
    "  \n",
    "The Amazon FSx for Lustre Container Storage Interface (CSI) driver provides a CSI interface that allows Amazon EKS clusters to manage the lifecycle of Amazon FSx for Lustre file systems.  \n",
    "\n",
    "https://docs.aws.amazon.com/eks/latest/userguide/fsx-csi.html"
   ]
  },
  {
   "cell_type": "code",
   "execution_count": 97,
   "metadata": {},
   "outputs": [],
   "source": [
    "import boto3\n",
    "import json\n",
    "from botocore.exceptions import ClientError\n",
    "\n",
    "iam = boto3.client('iam')\n",
    "sts = boto3.client('sts')\n",
    "cfn = boto3.client('cloudformation')\n",
    "eks = boto3.client('eks')\n",
    "\n",
    "region = boto3.Session().region_name\n",
    "cluster_name = 'demo'"
   ]
  },
  {
   "cell_type": "markdown",
   "metadata": {},
   "source": [
    "# 1. Install the FSx CSI Driver for Kubernetes"
   ]
  },
  {
   "cell_type": "markdown",
   "metadata": {},
   "source": [
    "## Create IAM Policy\n",
    "\n",
    "Create an IAM policy and service account that allows the driver to make calls to AWS APIs on your behalf."
   ]
  },
  {
   "cell_type": "code",
   "execution_count": 47,
   "metadata": {
    "scrolled": true
   },
   "outputs": [
    {
     "name": "stdout",
     "output_type": "stream",
     "text": [
      "{\n",
      "    \u001b[94m\"Version\"\u001b[39;49;00m:\u001b[33m\"2012-10-17\"\u001b[39;49;00m,\n",
      "    \u001b[94m\"Statement\"\u001b[39;49;00m:[\n",
      "        {\n",
      "            \u001b[94m\"Effect\"\u001b[39;49;00m:\u001b[33m\"Allow\"\u001b[39;49;00m,\n",
      "            \u001b[94m\"Action\"\u001b[39;49;00m:[\n",
      "                \u001b[33m\"iam:CreateServiceLinkedRole\"\u001b[39;49;00m,\n",
      "                \u001b[33m\"iam:AttachRolePolicy\"\u001b[39;49;00m,\n",
      "                \u001b[33m\"iam:PutRolePolicy\"\u001b[39;49;00m\n",
      "            ],\n",
      "            \u001b[94m\"Resource\"\u001b[39;49;00m:\u001b[33m\"arn:aws:iam::*:role/aws-service-role/s3.data-source.lustre.fsx.amazonaws.com/*\"\u001b[39;49;00m\n",
      "        },\n",
      "        {\n",
      "            \u001b[94m\"Action\"\u001b[39;49;00m:\u001b[33m\"iam:CreateServiceLinkedRole\"\u001b[39;49;00m,\n",
      "            \u001b[94m\"Effect\"\u001b[39;49;00m:\u001b[33m\"Allow\"\u001b[39;49;00m,\n",
      "            \u001b[94m\"Resource\"\u001b[39;49;00m:\u001b[33m\"*\"\u001b[39;49;00m,\n",
      "            \u001b[94m\"Condition\"\u001b[39;49;00m:{\n",
      "                \u001b[94m\"StringLike\"\u001b[39;49;00m:{\n",
      "                    \u001b[94m\"iam:AWSServiceName\"\u001b[39;49;00m:[\n",
      "                        \u001b[33m\"fsx.amazonaws.com\"\u001b[39;49;00m\n",
      "                    ]\n",
      "                }\n",
      "            }\n",
      "        },\n",
      "        {\n",
      "            \u001b[94m\"Effect\"\u001b[39;49;00m:\u001b[33m\"Allow\"\u001b[39;49;00m,\n",
      "            \u001b[94m\"Action\"\u001b[39;49;00m:[\n",
      "                \u001b[33m\"s3:ListBucket\"\u001b[39;49;00m,\n",
      "                \u001b[33m\"fsx:CreateFileSystem\"\u001b[39;49;00m,\n",
      "                \u001b[33m\"fsx:DeleteFileSystem\"\u001b[39;49;00m,\n",
      "                \u001b[33m\"fsx:DescribeFileSystems\"\u001b[39;49;00m\n",
      "            ],\n",
      "            \u001b[94m\"Resource\"\u001b[39;49;00m:[\n",
      "                \u001b[33m\"*\"\u001b[39;49;00m\n",
      "            ]\n",
      "        }\n",
      "    ]\n",
      "}\n"
     ]
    }
   ],
   "source": [
    "!pygmentize fsx/fsx-csi-driver.json"
   ]
  },
  {
   "cell_type": "code",
   "execution_count": 48,
   "metadata": {},
   "outputs": [],
   "source": [
    "# !aws iam create-policy \\\n",
    "#     --policy-name Amazon_FSx_Lustre_CSI_Driver \\\n",
    "#     --policy-document file://fsx/fsx-csi-driver.json"
   ]
  },
  {
   "cell_type": "code",
   "execution_count": null,
   "metadata": {},
   "outputs": [],
   "source": [
    "with open('fsx/fsx-csi-driver.json') as json_file:\n",
    "    data = json.load(json_file)\n",
    "    policy = json.dumps(data)\n",
    "\n",
    "try:\n",
    "    response = iam.create_policy(\n",
    "        PolicyName='Amazon_FSx_Lustre_CSI_Driver',\n",
    "        PolicyDocument=policy\n",
    "    )\n",
    "    print(\"[OK] Policy created.\")\n",
    "\n",
    "except ClientError as e:\n",
    "    if e.response['Error']['Code'] == 'EntityAlreadyExists':\n",
    "        print(\"[OK] Policy already exists.\")\n",
    "    else:\n",
    "        print(\"Error: %s\" % e)"
   ]
  },
  {
   "cell_type": "code",
   "execution_count": 70,
   "metadata": {},
   "outputs": [
    {
     "name": "stdout",
     "output_type": "stream",
     "text": [
      "arn:aws:iam::231218423789:policy/Amazon_FSx_Lustre_CSI_Driver\n"
     ]
    }
   ],
   "source": [
    "account_id = sts.get_caller_identity()['Account']\n",
    "csi_policy_arn = 'arn:aws:iam::{}:policy/Amazon_FSx_Lustre_CSI_Driver'.format(account_id)\n",
    "print(csi_policy_arn)"
   ]
  },
  {
   "cell_type": "markdown",
   "metadata": {},
   "source": [
    "## Create Kubernetes IAM Service Account\n",
    "\n",
    "Create a Kubernetes service account for the driver and attach the policy to the service account. Replacing the ARN of the policy with the ARN returned in the previous step."
   ]
  },
  {
   "cell_type": "code",
   "execution_count": 61,
   "metadata": {
    "scrolled": true
   },
   "outputs": [
    {
     "name": "stdout",
     "output_type": "stream",
     "text": [
      "\u001b[36m[ℹ]  eksctl version 0.30.0\n",
      "\u001b[0m\u001b[36m[ℹ]  using region us-west-2\n",
      "\u001b[0m\u001b[32m[!]  retryable error (RequestError: send request failed\n",
      "caused by: Put \"http://169.254.169.254/latest/api/token\": context deadline exceeded (Client.Timeout exceeded while awaiting headers)) from ec2metadata/GetToken - will retry after delay of 36.025941ms\n",
      "\u001b[0m\u001b[32m[!]  retryable error (RequestError: send request failed\n",
      "caused by: Put \"http://169.254.169.254/latest/api/token\": context deadline exceeded (Client.Timeout exceeded while awaiting headers)) from ec2metadata/GetToken - will retry after delay of 117.25337ms\n",
      "\u001b[0m\u001b[32m[!]  retryable error (RequestError: send request failed\n",
      "caused by: Put \"http://169.254.169.254/latest/api/token\": context deadline exceeded (Client.Timeout exceeded while awaiting headers)) from ec2metadata/GetToken - will retry after delay of 205.097108ms\n",
      "\u001b[0m\u001b[32m[!]  retryable error (RequestError: send request failed\n",
      "caused by: Put \"http://169.254.169.254/latest/api/token\": context deadline exceeded (Client.Timeout exceeded while awaiting headers)) from ec2metadata/GetToken - will retry after delay of 451.376768ms\n",
      "\u001b[0m\u001b[32m[!]  retryable error (RequestError: send request failed\n",
      "caused by: Put \"http://169.254.169.254/latest/api/token\": context deadline exceeded (Client.Timeout exceeded while awaiting headers)) from ec2metadata/GetToken - will retry after delay of 541.820128ms\n",
      "\u001b[0m\u001b[32m[!]  retryable error (RequestError: send request failed\n",
      "caused by: Put \"http://169.254.169.254/latest/api/token\": context deadline exceeded (Client.Timeout exceeded while awaiting headers)) from ec2metadata/GetToken - will retry after delay of 1.267389632s\n",
      "\u001b[0m\u001b[32m[!]  retryable error (RequestError: send request failed\n",
      "caused by: Put \"http://169.254.169.254/latest/api/token\": context deadline exceeded (Client.Timeout exceeded while awaiting headers)) from ec2metadata/GetToken - will retry after delay of 2.632608384s\n",
      "\u001b[0m\u001b[32m[!]  retryable error (RequestError: send request failed\n",
      "caused by: Put \"http://169.254.169.254/latest/api/token\": context deadline exceeded (Client.Timeout exceeded while awaiting headers)) from ec2metadata/GetToken - will retry after delay of 5.914615552s\n",
      "\u001b[0m\u001b[32m[!]  retryable error (RequestError: send request failed\n",
      "caused by: Put \"http://169.254.169.254/latest/api/token\": context deadline exceeded (Client.Timeout exceeded while awaiting headers)) from ec2metadata/GetToken - will retry after delay of 9.521373952s\n",
      "\u001b[0m\u001b[32m[!]  retryable error (RequestError: send request failed\n",
      "caused by: Put \"http://169.254.169.254/latest/api/token\": context deadline exceeded (Client.Timeout exceeded while awaiting headers)) from ec2metadata/GetToken - will retry after delay of 21.73668864s\n",
      "\u001b[0m\u001b[32m[!]  retryable error (RequestError: send request failed\n",
      "caused by: Put \"http://169.254.169.254/latest/api/token\": context deadline exceeded (Client.Timeout exceeded while awaiting headers)) from ec2metadata/GetToken - will retry after delay of 44.05404672s\n",
      "\u001b[0m\u001b[32m[!]  retryable error (RequestError: send request failed\n",
      "caused by: Put \"http://169.254.169.254/latest/api/token\": context deadline exceeded (Client.Timeout exceeded while awaiting headers)) from ec2metadata/GetToken - will retry after delay of 1m11.70374656s\n",
      "\u001b[0m\u001b[32m[!]  retryable error (RequestError: send request failed\n",
      "caused by: Put \"http://169.254.169.254/latest/api/token\": context deadline exceeded (Client.Timeout exceeded while awaiting headers)) from ec2metadata/GetToken - will retry after delay of 2m23.622561792s\n",
      "\u001b[0mrequest expired, resigning\n",
      "\u001b[36m[ℹ]  1 existing iamserviceaccount(s) (kube-system/aws-node) will be excluded\n",
      "\u001b[0m\u001b[36m[ℹ]  1 iamserviceaccount (kube-system/fsx-csi-controller-sa) was included (based on the include/exclude rules)\n",
      "\u001b[0m\u001b[36m[ℹ]  1 iamserviceaccount (kube-system/aws-node) was excluded (based on the include/exclude rules)\n",
      "\u001b[0m\u001b[32m[!]  serviceaccounts that exists in Kubernetes will be excluded, use --override-existing-serviceaccounts to override\n",
      "\u001b[0m\u001b[36m[ℹ]  1 task: { 2 sequential sub-tasks: { create IAM role for serviceaccount \"kube-system/fsx-csi-controller-sa\", create serviceaccount \"kube-system/fsx-csi-controller-sa\" } }\n",
      "\u001b[0m\u001b[36m[ℹ]  building iamserviceaccount stack \"eksctl-demo-addon-iamserviceaccount-kube-system-fsx-csi-controller-sa\"\n",
      "\u001b[0m\u001b[36m[ℹ]  deploying stack \"eksctl-demo-addon-iamserviceaccount-kube-system-fsx-csi-controller-sa\"\n",
      "\u001b[0m\u001b[36m[ℹ]  created serviceaccount \"kube-system/fsx-csi-controller-sa\"\n",
      "\u001b[0m"
     ]
    }
   ],
   "source": [
    "!eksctl create iamserviceaccount \\\n",
    "     --region $region \\\n",
    "     --name fsx-csi-controller-sa \\\n",
    "     --namespace kube-system \\\n",
    "     --cluster $cluster_name \\\n",
    "     --attach-policy-arn $policy_arn \\\n",
    "     --approve"
   ]
  },
  {
   "cell_type": "code",
   "execution_count": 88,
   "metadata": {},
   "outputs": [
    {
     "name": "stdout",
     "output_type": "stream",
     "text": [
      "eksctl-demo-addon-iamserviceaccount-kube-system-fsx-csi-controller-sa\n"
     ]
    }
   ],
   "source": [
    "cf_stack_name = 'eksctl-{}-addon-iamserviceaccount-kube-system-fsx-csi-controller-sa'.format(cluster_name)\n",
    "print(cf_stack_name)"
   ]
  },
  {
   "cell_type": "code",
   "execution_count": 89,
   "metadata": {},
   "outputs": [],
   "source": [
    "response = cfn.list_stack_resources(\n",
    "    StackName=cf_stack_name\n",
    ")\n",
    "print(response)"
   ]
  },
  {
   "cell_type": "code",
   "execution_count": 95,
   "metadata": {},
   "outputs": [
    {
     "name": "stdout",
     "output_type": "stream",
     "text": [
      "eksctl-demo-addon-iamserviceaccount-kube-sys-Role1-F6F0V336BM0B\n"
     ]
    }
   ],
   "source": [
    "iam_role_name = response['StackResourceSummaries'][0]['PhysicalResourceId']\n",
    "print(iam_role_name)"
   ]
  },
  {
   "cell_type": "code",
   "execution_count": 96,
   "metadata": {},
   "outputs": [
    {
     "name": "stdout",
     "output_type": "stream",
     "text": [
      "arn:aws:iam::231218423789:role/eksctl-demo-addon-iamserviceaccount-kube-sys-Role1-F6F0V336BM0B\n"
     ]
    }
   ],
   "source": [
    "iam_role_arn = iam.get_role(RoleName=iam_role_name)['Role']['Arn']\n",
    "print(iam_role_arn)"
   ]
  },
  {
   "cell_type": "markdown",
   "metadata": {},
   "source": [
    "# Deploy CSI Driver"
   ]
  },
  {
   "cell_type": "code",
   "execution_count": 99,
   "metadata": {},
   "outputs": [
    {
     "name": "stdout",
     "output_type": "stream",
     "text": [
      "Warning: kubectl apply should be used on resource created by either kubectl create --save-config or kubectl apply\n",
      "serviceaccount/fsx-csi-controller-sa configured\n",
      "clusterrole.rbac.authorization.k8s.io/fsx-csi-external-provisioner-role created\n",
      "clusterrolebinding.rbac.authorization.k8s.io/fsx-csi-external-provisioner-binding created\n",
      "deployment.apps/fsx-csi-controller created\n",
      "daemonset.apps/fsx-csi-node created\n",
      "csidriver.storage.k8s.io/fsx.csi.aws.com created\n"
     ]
    }
   ],
   "source": [
    "!kubectl apply -k \"github.com/kubernetes-sigs/aws-fsx-csi-driver/deploy/kubernetes/overlays/stable/?ref=master\"\n"
   ]
  },
  {
   "cell_type": "markdown",
   "metadata": {},
   "source": [
    "Patch the driver deployment to add the service account that you just created, replacing the ARN with the correct role ARN."
   ]
  },
  {
   "cell_type": "code",
   "execution_count": 100,
   "metadata": {},
   "outputs": [
    {
     "name": "stdout",
     "output_type": "stream",
     "text": [
      "serviceaccount/fsx-csi-controller-sa annotated\n"
     ]
    }
   ],
   "source": [
    "!kubectl annotate serviceaccount -n kube-system fsx-csi-controller-sa \\\n",
    " eks.amazonaws.com/role-arn=$iam_role_arn --overwrite=true"
   ]
  },
  {
   "cell_type": "markdown",
   "metadata": {},
   "source": [
    "# Check S3 Bucket For FSX"
   ]
  },
  {
   "cell_type": "code",
   "execution_count": 106,
   "metadata": {},
   "outputs": [],
   "source": [
    "bucket = 's3://fsx-antje'"
   ]
  },
  {
   "cell_type": "code",
   "execution_count": null,
   "metadata": {},
   "outputs": [],
   "source": [
    "#!aws s3 mb $bucket"
   ]
  },
  {
   "cell_type": "code",
   "execution_count": 118,
   "metadata": {},
   "outputs": [
    {
     "name": "stdout",
     "output_type": "stream",
     "text": [
      "                           PRE code/\n",
      "                           PRE input/\n",
      "                           PRE model/\n"
     ]
    }
   ],
   "source": [
    "!aws s3 ls $bucket"
   ]
  },
  {
   "cell_type": "code",
   "execution_count": 119,
   "metadata": {},
   "outputs": [
    {
     "name": "stdout",
     "output_type": "stream",
     "text": [
      "2020-10-30 18:14:13      24767 code/train.py\n",
      "2020-10-30 18:14:13        615 input/data/test/part-algo-1-amazon_reviews_us_Digital_Software_v1_00.tfrecord\n",
      "2020-10-30 18:14:13        632 input/data/test/part-algo-2-amazon_reviews_us_Digital_Video_Games_v1_00.tfrecord\n",
      "2020-10-30 18:14:13      10728 input/data/train/part-algo-1-amazon_reviews_us_Digital_Software_v1_00.tfrecord\n",
      "2020-10-30 18:14:13      11812 input/data/train/part-algo-2-amazon_reviews_us_Digital_Video_Games_v1_00.tfrecord\n",
      "2020-10-30 18:14:13        679 input/data/validation/part-algo-1-amazon_reviews_us_Digital_Software_v1_00.tfrecord\n",
      "2020-10-30 18:14:13        642 input/data/validation/part-algo-2-amazon_reviews_us_Digital_Video_Games_v1_00.tfrecord\n",
      "2020-10-30 18:14:43          0 model/\n"
     ]
    }
   ],
   "source": [
    "!aws s3 ls $bucket --recursive"
   ]
  },
  {
   "cell_type": "markdown",
   "metadata": {},
   "source": [
    "# Download Storage Class Manifest"
   ]
  },
  {
   "cell_type": "code",
   "execution_count": 126,
   "metadata": {},
   "outputs": [
    {
     "name": "stdout",
     "output_type": "stream",
     "text": [
      "  % Total    % Received % Xferd  Average Speed   Time    Time     Time  Current\n",
      "                                 Dload  Upload   Total   Spent    Left  Speed\n",
      "100   336  100   336    0     0   8400      0 --:--:-- --:--:-- --:--:--  8400\n"
     ]
    }
   ],
   "source": [
    "!curl -o storageclass.yaml https://raw.githubusercontent.com/kubernetes-sigs/aws-fsx-csi-driver/master/examples/kubernetes/dynamic_provisioning_s3/specs/storageclass.yaml\n",
    "    "
   ]
  },
  {
   "cell_type": "markdown",
   "metadata": {},
   "source": [
    "## Get VPC ID and Subnet ID"
   ]
  },
  {
   "cell_type": "code",
   "execution_count": 146,
   "metadata": {},
   "outputs": [
    {
     "name": "stdout",
     "output_type": "stream",
     "text": [
      "export VPC_ID=vpc-00befc57aa9827938\n",
      "export SUBNET_ID=subnet-0b7feca8e1a89866e\n"
     ]
    }
   ],
   "source": [
    "%%bash\n",
    "\n",
    "source ~/.bash_profile\n",
    "\n",
    "#### Get VPC ID\n",
    "export VPC_ID=$(aws ec2 describe-vpcs --filters \"Name=tag:Name,Values=eksctl-${AWS_CLUSTER_NAME}-cluster/VPC\" --query \"Vpcs[0].VpcId\" --output text)\n",
    "echo \"export VPC_ID=${VPC_ID}\" | tee -a ~/.bash_profile\n",
    "\n",
    "#### Get Subnet ID\n",
    "export SUBNET_ID=$(aws ec2 describe-subnets --filters \"Name=vpc-id,Values=${VPC_ID}\" --query \"Subnets[0].SubnetId\" --output text)\n",
    "echo \"export SUBNET_ID=${SUBNET_ID}\" | tee -a ~/.bash_profile"
   ]
  },
  {
   "cell_type": "markdown",
   "metadata": {},
   "source": [
    "## Create Security Group"
   ]
  },
  {
   "cell_type": "code",
   "execution_count": 153,
   "metadata": {},
   "outputs": [
    {
     "name": "stdout",
     "output_type": "stream",
     "text": [
      "export SEC_GROUP_ID=sg-0068354d692c6b51d\n"
     ]
    }
   ],
   "source": [
    "%%bash\n",
    "\n",
    "source ~/.bash_profile\n",
    "\n",
    "export SEC_GROUP_ID=$(aws ec2 create-security-group --group-name eks-fsx-security-group --vpc-id ${VPC_ID} --description \"FSx for Lustre Security Group\" --query \"GroupId\" --output text)\n",
    "echo \"export SEC_GROUP_ID=${SEC_GROUP_ID}\" | tee -a ~/.bash_profile"
   ]
  },
  {
   "cell_type": "markdown",
   "metadata": {},
   "source": [
    "## Add an ingress rule that opens up port 988 from the 192.168.0.0/16 CIDR range"
   ]
  },
  {
   "cell_type": "code",
   "execution_count": 154,
   "metadata": {},
   "outputs": [],
   "source": [
    "%%bash\n",
    "\n",
    "source ~/.bash_profile\n",
    "\n",
    "aws ec2 authorize-security-group-ingress --group-id ${SEC_GROUP_ID} --protocol tcp --port 988 --cidr 192.168.0.0/16"
   ]
  },
  {
   "cell_type": "markdown",
   "metadata": {},
   "source": [
    "## Attach Security Group to Nodes"
   ]
  },
  {
   "cell_type": "code",
   "execution_count": null,
   "metadata": {},
   "outputs": [],
   "source": []
  },
  {
   "cell_type": "markdown",
   "metadata": {},
   "source": [
    "## Update the environment variables in the `storageclass.yaml` file"
   ]
  },
  {
   "cell_type": "code",
   "execution_count": 155,
   "metadata": {},
   "outputs": [
    {
     "name": "stdout",
     "output_type": "stream",
     "text": [
      "\u001b[94mkind\u001b[39;49;00m: StorageClass\n",
      "\u001b[94mapiVersion\u001b[39;49;00m: storage.k8s.io/v1\n",
      "\u001b[94mmetadata\u001b[39;49;00m:\n",
      "  \u001b[94mname\u001b[39;49;00m: fsx-sc\n",
      "\u001b[94mprovisioner\u001b[39;49;00m: fsx.csi.aws.com\n",
      "\u001b[94mparameters\u001b[39;49;00m:\n",
      "  \u001b[94msubnetId\u001b[39;49;00m: subnet-0b7feca8e1a89866e\n",
      "  \u001b[94msecurityGroupIds\u001b[39;49;00m: sg-0068354d692c6b51d\n",
      "  \u001b[94ms3ImportPath\u001b[39;49;00m: s3://fsx-antje\n",
      "  \u001b[94ms3ExportPath\u001b[39;49;00m: s3://fsx-antje\n",
      "  \u001b[94mautoImportPolicy\u001b[39;49;00m: NEW_CHANGED\n",
      "  \u001b[94mdeploymentType\u001b[39;49;00m: SCRATCH_2\n",
      "\u001b[94mmountOptions\u001b[39;49;00m:\n",
      "  - flock\n"
     ]
    }
   ],
   "source": [
    "!pygmentize fsx/storageclass.yaml"
   ]
  },
  {
   "cell_type": "code",
   "execution_count": null,
   "metadata": {},
   "outputs": [],
   "source": [
    "# %%bash\n",
    "\n",
    "# source ~/.bash_profile\n",
    "\n",
    "# # Populate SUBNET_ID, SECURITY_GROUP_ID, S3_BUCKET\n",
    "\n",
    "# cd\n",
    "\n",
    "# sed \"s@SUBNET_ID@$SUBNET_ID@\" fsx/fsx-s3-sc.yaml.template > fsx/fsx-s3-sc.yaml\n",
    "\n",
    "# sed -i.bak -e \"s@SECURITY_GROUP_ID@$SECURITY_GROUP_ID@\" fsx/fsx-s3-sc.yaml \n",
    "\n",
    "# sed -i.bak -e \"s@S3_BUCKET@$S3_BUCKET@\" fsx/fsx-s3-sc.yaml"
   ]
  },
  {
   "cell_type": "markdown",
   "metadata": {},
   "source": [
    "# Create FSX Storage Class"
   ]
  },
  {
   "cell_type": "code",
   "execution_count": 156,
   "metadata": {},
   "outputs": [
    {
     "name": "stdout",
     "output_type": "stream",
     "text": [
      "Error from server (NotFound): error when deleting \"code/storageclass.yaml\": storageclasses.storage.k8s.io \"fsx-sc\" not found\n"
     ]
    }
   ],
   "source": [
    "!kubectl delete -f fsx/storageclass.yaml"
   ]
  },
  {
   "cell_type": "code",
   "execution_count": 157,
   "metadata": {},
   "outputs": [
    {
     "name": "stdout",
     "output_type": "stream",
     "text": [
      "storageclass.storage.k8s.io/fsx-sc created\n"
     ]
    }
   ],
   "source": [
    "!kubectl create -f fsx/storageclass.yaml"
   ]
  },
  {
   "cell_type": "code",
   "execution_count": 158,
   "metadata": {},
   "outputs": [
    {
     "name": "stdout",
     "output_type": "stream",
     "text": [
      "NAME            PROVISIONER             RECLAIMPOLICY   VOLUMEBINDINGMODE      ALLOWVOLUMEEXPANSION   AGE\n",
      "fsx-sc          fsx.csi.aws.com         Delete          Immediate              false                  4s\n",
      "gp2 (default)   kubernetes.io/aws-ebs   Delete          WaitForFirstConsumer   false                  7h48m\n"
     ]
    }
   ],
   "source": [
    "!kubectl get sc"
   ]
  },
  {
   "cell_type": "markdown",
   "metadata": {},
   "source": [
    "# Create Claim"
   ]
  },
  {
   "cell_type": "code",
   "execution_count": 159,
   "metadata": {},
   "outputs": [
    {
     "name": "stdout",
     "output_type": "stream",
     "text": [
      "  % Total    % Received % Xferd  Average Speed   Time    Time     Time  Current\n",
      "                                 Dload  Upload   Total   Spent    Left  Speed\n",
      "100   188  100   188    0     0    761      0 --:--:-- --:--:-- --:--:--   758\n"
     ]
    }
   ],
   "source": [
    "!curl -o claim.yaml https://raw.githubusercontent.com/kubernetes-sigs/aws-fsx-csi-driver/master/examples/kubernetes/dynamic_provisioning_s3/specs/claim.yaml"
   ]
  },
  {
   "cell_type": "code",
   "execution_count": 160,
   "metadata": {},
   "outputs": [
    {
     "name": "stdout",
     "output_type": "stream",
     "text": [
      "\u001b[94mapiVersion\u001b[39;49;00m: v1\n",
      "\u001b[94mkind\u001b[39;49;00m: PersistentVolumeClaim\n",
      "\u001b[94mmetadata\u001b[39;49;00m:\n",
      "  \u001b[94mname\u001b[39;49;00m: fsx-claim\n",
      "\u001b[94mspec\u001b[39;49;00m:\n",
      "  \u001b[94maccessModes\u001b[39;49;00m:\n",
      "    - ReadWriteMany\n",
      "  \u001b[94mstorageClassName\u001b[39;49;00m: fsx-sc\n",
      "  \u001b[94mresources\u001b[39;49;00m:\n",
      "    \u001b[94mrequests\u001b[39;49;00m:\n",
      "      \u001b[94mstorage\u001b[39;49;00m: 1200Gi\n"
     ]
    }
   ],
   "source": [
    "!pygmentize fsx/claim.yaml"
   ]
  },
  {
   "cell_type": "code",
   "execution_count": 161,
   "metadata": {},
   "outputs": [
    {
     "name": "stdout",
     "output_type": "stream",
     "text": [
      "Error from server (NotFound): error when deleting \"code/claim.yaml\": persistentvolumeclaims \"fsx-claim\" not found\n"
     ]
    }
   ],
   "source": [
    "!kubectl delete -f fsx/claim.yaml"
   ]
  },
  {
   "cell_type": "code",
   "execution_count": 162,
   "metadata": {},
   "outputs": [
    {
     "name": "stdout",
     "output_type": "stream",
     "text": [
      "persistentvolumeclaim/fsx-claim created\n"
     ]
    }
   ],
   "source": [
    "!kubectl apply -f fsx/claim.yaml"
   ]
  },
  {
   "cell_type": "code",
   "execution_count": 177,
   "metadata": {},
   "outputs": [
    {
     "name": "stdout",
     "output_type": "stream",
     "text": [
      "NAME        STATUS   VOLUME                                     CAPACITY   ACCESS MODES   STORAGECLASS   AGE\n",
      "fsx-claim   Bound    pvc-15d2fbd7-a0ee-44a6-8ccb-c570d15f4690   1200Gi     RWX            fsx-sc         11m\n"
     ]
    }
   ],
   "source": [
    "!kubectl get pvc fsx-claim"
   ]
  },
  {
   "cell_type": "code",
   "execution_count": 178,
   "metadata": {},
   "outputs": [
    {
     "name": "stdout",
     "output_type": "stream",
     "text": [
      "Name:          fsx-claim\n",
      "Namespace:     default\n",
      "StorageClass:  fsx-sc\n",
      "Status:        Bound\n",
      "Volume:        pvc-15d2fbd7-a0ee-44a6-8ccb-c570d15f4690\n",
      "Labels:        <none>\n",
      "Annotations:   pv.kubernetes.io/bind-completed: yes\n",
      "               pv.kubernetes.io/bound-by-controller: yes\n",
      "               volume.beta.kubernetes.io/storage-provisioner: fsx.csi.aws.com\n",
      "Finalizers:    [kubernetes.io/pvc-protection]\n",
      "Capacity:      1200Gi\n",
      "Access Modes:  RWX\n",
      "VolumeMode:    Filesystem\n",
      "Mounted By:    <none>\n",
      "Events:\n",
      "  Type     Reason                Age                   From                                                                                      Message\n",
      "  ----     ------                ----                  ----                                                                                      -------\n",
      "  Normal   Provisioning          6m39s (x2 over 11m)   fsx.csi.aws.com_fsx-csi-controller-56b56d8d7c-pzvll_265ac4c3-1adb-11eb-bd19-52b9ba508e4f  External provisioner is provisioning volume for claim \"default/fsx-claim\"\n",
      "  Warning  ProvisioningFailed    6m39s                 fsx.csi.aws.com_fsx-csi-controller-56b56d8d7c-pzvll_265ac4c3-1adb-11eb-bd19-52b9ba508e4f  failed to provision volume with StorageClass \"fsx-sc\": rpc error: code = DeadlineExceeded desc = context deadline exceeded\n",
      "  Normal   ExternalProvisioning  5m31s (x26 over 11m)  persistentvolume-controller                                                               waiting for a volume to be created, either by external provisioner \"fsx.csi.aws.com\" or manually created by system administrator\n"
     ]
    }
   ],
   "source": [
    "!kubectl describe pvc fsx-claim"
   ]
  },
  {
   "cell_type": "markdown",
   "metadata": {},
   "source": [
    "## _Wait for status == Bound_"
   ]
  },
  {
   "cell_type": "markdown",
   "metadata": {},
   "source": [
    "## Update FSX to `autoImportPolicy: NEW_CHANGED`"
   ]
  },
  {
   "cell_type": "code",
   "execution_count": 164,
   "metadata": {},
   "outputs": [],
   "source": [
    "fsx = boto3.client('fsx')"
   ]
  },
  {
   "cell_type": "code",
   "execution_count": 175,
   "metadata": {},
   "outputs": [
    {
     "name": "stdout",
     "output_type": "stream",
     "text": [
      "fs-074bb60625bdd4a9a\n"
     ]
    }
   ],
   "source": [
    "response = fsx.describe_file_systems()\n",
    "fsx_id = response['FileSystems'][0]['FileSystemId']\n",
    "print(fsx_id)"
   ]
  },
  {
   "cell_type": "code",
   "execution_count": 176,
   "metadata": {},
   "outputs": [
    {
     "name": "stdout",
     "output_type": "stream",
     "text": [
      "{'FileSystem': {'OwnerId': '231218423789', 'CreationTime': datetime.datetime(2020, 10, 30, 19, 12, 15, 581000, tzinfo=tzlocal()), 'FileSystemId': 'fs-074bb60625bdd4a9a', 'FileSystemType': 'LUSTRE', 'Lifecycle': 'AVAILABLE', 'StorageCapacity': 1200, 'StorageType': 'SSD', 'VpcId': 'vpc-00befc57aa9827938', 'SubnetIds': ['subnet-0b7feca8e1a89866e'], 'NetworkInterfaceIds': ['eni-0eebeb5c214c2ac23', 'eni-0fba861f463339909'], 'DNSName': 'fs-074bb60625bdd4a9a.fsx.us-west-2.amazonaws.com', 'ResourceARN': 'arn:aws:fsx:us-west-2:231218423789:file-system/fs-074bb60625bdd4a9a', 'Tags': [{'Key': 'CSIVolumeName', 'Value': 'pvc-15d2fbd7-a0ee-44a6-8ccb-c570d15f4690'}], 'LustreConfiguration': {'WeeklyMaintenanceStartTime': '3:13:00', 'DataRepositoryConfiguration': {'Lifecycle': 'UPDATING', 'ImportPath': 's3://fsx-antje', 'ExportPath': 's3://fsx-antje', 'ImportedFileChunkSize': 1024, 'AutoImportPolicy': 'NEW_CHANGED'}, 'DeploymentType': 'SCRATCH_2', 'MountName': 'zvexvbmv', 'CopyTagsToBackups': False}}, 'ResponseMetadata': {'RequestId': '2ddfabe3-b8a7-41c1-97fb-d857683dd42c', 'HTTPStatusCode': 200, 'HTTPHeaders': {'date': 'Fri, 30 Oct 2020 19:16:15 GMT', 'content-type': 'application/x-amz-json-1.1', 'content-length': '896', 'connection': 'keep-alive', 'x-amzn-requestid': '2ddfabe3-b8a7-41c1-97fb-d857683dd42c'}, 'RetryAttempts': 0}}\n"
     ]
    }
   ],
   "source": [
    "response = fsx.update_file_system(\n",
    "    FileSystemId=fsx_id,\n",
    "    LustreConfiguration={\n",
    "        'AutoImportPolicy': 'NEW_CHANGED'\n",
    "    }\n",
    ")\n",
    "print(response)"
   ]
  },
  {
   "cell_type": "markdown",
   "metadata": {},
   "source": [
    "## kubectl version"
   ]
  },
  {
   "cell_type": "code",
   "execution_count": 214,
   "metadata": {},
   "outputs": [
    {
     "name": "stdout",
     "output_type": "stream",
     "text": [
      "Client Version: version.Info{Major:\"1\", Minor:\"15+\", GitVersion:\"v1.15.10-eks-bac369\", GitCommit:\"bac3690554985327ae4d13e42169e8b1c2f37226\", GitTreeState:\"clean\", BuildDate:\"2020-02-21T23:37:18Z\", GoVersion:\"go1.12.12\", Compiler:\"gc\", Platform:\"linux/amd64\"}\n",
      "Server Version: version.Info{Major:\"1\", Minor:\"17+\", GitVersion:\"v1.17.9-eks-4c6976\", GitCommit:\"4c6976793196d70bc5cd29d56ce5440c9473648e\", GitTreeState:\"clean\", BuildDate:\"2020-07-17T18:46:04Z\", GoVersion:\"go1.13.9\", Compiler:\"gc\", Platform:\"linux/amd64\"}\n"
     ]
    }
   ],
   "source": [
    "!kubectl version"
   ]
  }
 ],
 "metadata": {
  "kernelspec": {
   "display_name": "conda_python3",
   "language": "python",
   "name": "conda_python3"
  },
  "language_info": {
   "codemirror_mode": {
    "name": "ipython",
    "version": 3
   },
   "file_extension": ".py",
   "mimetype": "text/x-python",
   "name": "python",
   "nbconvert_exporter": "python",
   "pygments_lexer": "ipython3",
   "version": "3.6.10"
  }
 },
 "nbformat": 4,
 "nbformat_minor": 4
}
