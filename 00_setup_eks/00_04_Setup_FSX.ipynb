{
 "cells": [
  {
   "cell_type": "markdown",
   "metadata": {},
   "source": [
    "# EKS CSI FSX Lustre Setup\n",
    "\n",
    "Amazon FSx for Lustre is a high-performance file system optimized for deep learning workloads. FSx provides POSIX-compliant file system access to S3 for multiple readers and writers simultaneously.\n",
    "  \n",
    "The Amazon FSx for Lustre Container Storage Interface (CSI) driver provides a CSI interface that allows Amazon EKS clusters to manage the lifecycle of Amazon FSx for Lustre file systems.  \n",
    "\n",
    "* https://docs.aws.amazon.com/eks/latest/userguide/fsx-csi.html\n",
    "* https://github.com/kubernetes-sigs/aws-fsx-csi-driver"
   ]
  },
  {
   "cell_type": "code",
   "execution_count": 1,
   "metadata": {},
   "outputs": [],
   "source": [
    "import boto3\n",
    "import json\n",
    "from botocore.exceptions import ClientError\n",
    "\n",
    "iam = boto3.client('iam')\n",
    "sts = boto3.client('sts')\n",
    "cfn = boto3.client('cloudformation')\n",
    "eks = boto3.client('eks')\n",
    "\n",
    "region = boto3.Session().region_name\n",
    "cluster_name = 'workshop'"
   ]
  },
  {
   "cell_type": "markdown",
   "metadata": {},
   "source": [
    "# 1. Install the FSx CSI Driver for Kubernetes"
   ]
  },
  {
   "cell_type": "markdown",
   "metadata": {},
   "source": [
    "## Create IAM Policy\n",
    "\n",
    "Create an IAM policy and service account that allows the driver to make calls to AWS APIs on your behalf."
   ]
  },
  {
   "cell_type": "code",
   "execution_count": 2,
   "metadata": {
    "scrolled": true
   },
   "outputs": [
    {
     "name": "stdout",
     "output_type": "stream",
     "text": [
      "{\n",
      "    \u001b[94m\"Version\"\u001b[39;49;00m:\u001b[33m\"2012-10-17\"\u001b[39;49;00m,\n",
      "    \u001b[94m\"Statement\"\u001b[39;49;00m:[\n",
      "        {\n",
      "            \u001b[94m\"Effect\"\u001b[39;49;00m:\u001b[33m\"Allow\"\u001b[39;49;00m,\n",
      "            \u001b[94m\"Action\"\u001b[39;49;00m:[\n",
      "                \u001b[33m\"iam:CreateServiceLinkedRole\"\u001b[39;49;00m,\n",
      "                \u001b[33m\"iam:AttachRolePolicy\"\u001b[39;49;00m,\n",
      "                \u001b[33m\"iam:PutRolePolicy\"\u001b[39;49;00m\n",
      "            ],\n",
      "            \u001b[94m\"Resource\"\u001b[39;49;00m:\u001b[33m\"arn:aws:iam::*:role/aws-service-role/s3.data-source.lustre.fsx.amazonaws.com/*\"\u001b[39;49;00m\n",
      "        },\n",
      "        {\n",
      "            \u001b[94m\"Action\"\u001b[39;49;00m:\u001b[33m\"iam:CreateServiceLinkedRole\"\u001b[39;49;00m,\n",
      "            \u001b[94m\"Effect\"\u001b[39;49;00m:\u001b[33m\"Allow\"\u001b[39;49;00m,\n",
      "            \u001b[94m\"Resource\"\u001b[39;49;00m:\u001b[33m\"*\"\u001b[39;49;00m,\n",
      "            \u001b[94m\"Condition\"\u001b[39;49;00m:{\n",
      "                \u001b[94m\"StringLike\"\u001b[39;49;00m:{\n",
      "                    \u001b[94m\"iam:AWSServiceName\"\u001b[39;49;00m:[\n",
      "                        \u001b[33m\"fsx.amazonaws.com\"\u001b[39;49;00m\n",
      "                    ]\n",
      "                }\n",
      "            }\n",
      "        },\n",
      "        {\n",
      "            \u001b[94m\"Effect\"\u001b[39;49;00m:\u001b[33m\"Allow\"\u001b[39;49;00m,\n",
      "            \u001b[94m\"Action\"\u001b[39;49;00m:[\n",
      "                \u001b[33m\"s3:ListBucket\"\u001b[39;49;00m,\n",
      "                \u001b[33m\"fsx:CreateFileSystem\"\u001b[39;49;00m,\n",
      "                \u001b[33m\"fsx:DeleteFileSystem\"\u001b[39;49;00m,\n",
      "                \u001b[33m\"fsx:DescribeFileSystems\"\u001b[39;49;00m\n",
      "            ],\n",
      "            \u001b[94m\"Resource\"\u001b[39;49;00m:[\n",
      "                \u001b[33m\"*\"\u001b[39;49;00m\n",
      "            ]\n",
      "        }\n",
      "    ]\n",
      "}\n"
     ]
    }
   ],
   "source": [
    "!pygmentize fsx/fsx-csi-driver.json"
   ]
  },
  {
   "cell_type": "code",
   "execution_count": null,
   "metadata": {},
   "outputs": [],
   "source": [
    "# !aws iam create-policy \\\n",
    "#     --policy-name Amazon_FSx_Lustre_CSI_Driver \\\n",
    "#     --policy-document file://fsx/fsx-csi-driver.json"
   ]
  },
  {
   "cell_type": "code",
   "execution_count": 3,
   "metadata": {},
   "outputs": [
    {
     "name": "stdout",
     "output_type": "stream",
     "text": [
      "[OK] Policy created.\n"
     ]
    }
   ],
   "source": [
    "with open('fsx/fsx-csi-driver.json') as json_file:\n",
    "    data = json.load(json_file)\n",
    "    policy = json.dumps(data)\n",
    "\n",
    "try:\n",
    "    response = iam.create_policy(\n",
    "        PolicyName='Amazon_FSx_Lustre_CSI_Driver',\n",
    "        PolicyDocument=policy\n",
    "    )\n",
    "    print(\"[OK] Policy created.\")\n",
    "\n",
    "except ClientError as e:\n",
    "    if e.response['Error']['Code'] == 'EntityAlreadyExists':\n",
    "        print(\"[OK] Policy already exists.\")\n",
    "    else:\n",
    "        print(\"Error: %s\" % e)"
   ]
  },
  {
   "cell_type": "code",
   "execution_count": 4,
   "metadata": {},
   "outputs": [
    {
     "name": "stdout",
     "output_type": "stream",
     "text": [
      "arn:aws:iam::665714183901:policy/Amazon_FSx_Lustre_CSI_Driver\n"
     ]
    }
   ],
   "source": [
    "account_id = sts.get_caller_identity()['Account']\n",
    "csi_policy_arn = 'arn:aws:iam::{}:policy/Amazon_FSx_Lustre_CSI_Driver'.format(account_id)\n",
    "print(csi_policy_arn)"
   ]
  },
  {
   "cell_type": "markdown",
   "metadata": {},
   "source": [
    "## Create Kubernetes IAM Service Account\n",
    "\n",
    "Create a Kubernetes service account for the driver and attach the policy to the service account. Replacing the ARN of the policy with the ARN returned in the previous step."
   ]
  },
  {
   "cell_type": "markdown",
   "metadata": {},
   "source": [
    "## _The next cell runs for about 10min. Please be patient._"
   ]
  },
  {
   "cell_type": "code",
   "execution_count": 5,
   "metadata": {
    "scrolled": true
   },
   "outputs": [
    {
     "name": "stdout",
     "output_type": "stream",
     "text": [
      "\u001b[36m[ℹ]  eksctl version 0.32.0\n",
      "\u001b[0m\u001b[36m[ℹ]  using region us-west-2\n",
      "\u001b[0m\u001b[32m[!]  retryable error (RequestError: send request failed\n",
      "caused by: Put \"http://169.254.169.254/latest/api/token\": context deadline exceeded (Client.Timeout exceeded while awaiting headers)) from ec2metadata/GetToken - will retry after delay of 35.741093ms\n",
      "\u001b[0m\u001b[32m[!]  retryable error (RequestError: send request failed\n",
      "caused by: Put \"http://169.254.169.254/latest/api/token\": context deadline exceeded (Client.Timeout exceeded while awaiting headers)) from ec2metadata/GetToken - will retry after delay of 118.362288ms\n",
      "\u001b[0m\u001b[32m[!]  retryable error (RequestError: send request failed\n",
      "caused by: Put \"http://169.254.169.254/latest/api/token\": context deadline exceeded (Client.Timeout exceeded while awaiting headers)) from ec2metadata/GetToken - will retry after delay of 173.270868ms\n",
      "\u001b[0m\u001b[32m[!]  retryable error (RequestError: send request failed\n",
      "caused by: Put \"http://169.254.169.254/latest/api/token\": context deadline exceeded (Client.Timeout exceeded while awaiting headers)) from ec2metadata/GetToken - will retry after delay of 281.95664ms\n",
      "\u001b[0m\u001b[32m[!]  retryable error (RequestError: send request failed\n",
      "caused by: Put \"http://169.254.169.254/latest/api/token\": context deadline exceeded (Client.Timeout exceeded while awaiting headers)) from ec2metadata/GetToken - will retry after delay of 725.58712ms\n",
      "\u001b[0m\u001b[32m[!]  retryable error (RequestError: send request failed\n",
      "caused by: Put \"http://169.254.169.254/latest/api/token\": context deadline exceeded (Client.Timeout exceeded while awaiting headers)) from ec2metadata/GetToken - will retry after delay of 1.904315616s\n",
      "\u001b[0m\u001b[32m[!]  retryable error (RequestError: send request failed\n",
      "caused by: Put \"http://169.254.169.254/latest/api/token\": context deadline exceeded (Client.Timeout exceeded while awaiting headers)) from ec2metadata/GetToken - will retry after delay of 1.985013312s\n",
      "\u001b[0m\u001b[32m[!]  retryable error (RequestError: send request failed\n",
      "caused by: Put \"http://169.254.169.254/latest/api/token\": context deadline exceeded (Client.Timeout exceeded while awaiting headers)) from ec2metadata/GetToken - will retry after delay of 4.694983936s\n",
      "\u001b[0m\u001b[32m[!]  retryable error (RequestError: send request failed\n",
      "caused by: Put \"http://169.254.169.254/latest/api/token\": context deadline exceeded (Client.Timeout exceeded while awaiting headers)) from ec2metadata/GetToken - will retry after delay of 8.86074752s\n",
      "\u001b[0m\u001b[32m[!]  retryable error (RequestError: send request failed\n",
      "caused by: Put \"http://169.254.169.254/latest/api/token\": context deadline exceeded (Client.Timeout exceeded while awaiting headers)) from ec2metadata/GetToken - will retry after delay of 20.317456896s\n",
      "\u001b[0m\u001b[32m[!]  retryable error (RequestError: send request failed\n",
      "caused by: Put \"http://169.254.169.254/latest/api/token\": context deadline exceeded (Client.Timeout exceeded while awaiting headers)) from ec2metadata/GetToken - will retry after delay of 44.279950336s\n",
      "\u001b[0m\u001b[32m[!]  retryable error (RequestError: send request failed\n",
      "caused by: Put \"http://169.254.169.254/latest/api/token\": context deadline exceeded (Client.Timeout exceeded while awaiting headers)) from ec2metadata/GetToken - will retry after delay of 1m3.443255296s\n",
      "\u001b[0m\u001b[32m[!]  retryable error (RequestError: send request failed\n",
      "caused by: Put \"http://169.254.169.254/latest/api/token\": context deadline exceeded (Client.Timeout exceeded while awaiting headers)) from ec2metadata/GetToken - will retry after delay of 3m18.63099392s\n",
      "\u001b[0mrequest expired, resigning\n",
      "\u001b[36m[ℹ]  1 existing iamserviceaccount(s) (kube-system/aws-node) will be excluded\n",
      "\u001b[0m\u001b[36m[ℹ]  1 iamserviceaccount (kube-system/fsx-csi-controller-sa) was included (based on the include/exclude rules)\n",
      "\u001b[0m\u001b[36m[ℹ]  1 iamserviceaccount (kube-system/aws-node) was excluded (based on the include/exclude rules)\n",
      "\u001b[0m\u001b[32m[!]  serviceaccounts that exists in Kubernetes will be excluded, use --override-existing-serviceaccounts to override\n",
      "\u001b[0m\u001b[36m[ℹ]  1 task: { 2 sequential sub-tasks: { create IAM role for serviceaccount \"kube-system/fsx-csi-controller-sa\", create serviceaccount \"kube-system/fsx-csi-controller-sa\" } }\n",
      "\u001b[0m\u001b[36m[ℹ]  building iamserviceaccount stack \"eksctl-workshop-addon-iamserviceaccount-kube-system-fsx-csi-controller-sa\"\n",
      "\u001b[0m\u001b[36m[ℹ]  deploying stack \"eksctl-workshop-addon-iamserviceaccount-kube-system-fsx-csi-controller-sa\"\n",
      "\u001b[0m\u001b[36m[ℹ]  created serviceaccount \"kube-system/fsx-csi-controller-sa\"\n",
      "\u001b[0m"
     ]
    }
   ],
   "source": [
    "!eksctl create iamserviceaccount \\\n",
    "     --region $region \\\n",
    "     --name fsx-csi-controller-sa \\\n",
    "     --namespace kube-system \\\n",
    "     --cluster $cluster_name \\\n",
    "     --attach-policy-arn $csi_policy_arn \\\n",
    "     --approve"
   ]
  },
  {
   "cell_type": "code",
   "execution_count": 6,
   "metadata": {},
   "outputs": [
    {
     "name": "stdout",
     "output_type": "stream",
     "text": [
      "eksctl-workshop-addon-iamserviceaccount-kube-system-fsx-csi-controller-sa\n"
     ]
    }
   ],
   "source": [
    "cf_stack_name = 'eksctl-{}-addon-iamserviceaccount-kube-system-fsx-csi-controller-sa'.format(cluster_name)\n",
    "print(cf_stack_name)"
   ]
  },
  {
   "cell_type": "code",
   "execution_count": 7,
   "metadata": {},
   "outputs": [
    {
     "name": "stdout",
     "output_type": "stream",
     "text": [
      "{'StackResourceSummaries': [{'LogicalResourceId': 'Role1', 'PhysicalResourceId': 'eksctl-workshop-addon-iamserviceaccount-kube-Role1-7HVCFDTTQ2ZD', 'ResourceType': 'AWS::IAM::Role', 'LastUpdatedTimestamp': datetime.datetime(2020, 11, 22, 17, 7, 49, 200000, tzinfo=tzlocal()), 'ResourceStatus': 'CREATE_COMPLETE', 'DriftInformation': {'StackResourceDriftStatus': 'NOT_CHECKED'}}], 'ResponseMetadata': {'RequestId': '67b860cb-321c-49f6-8517-aa96a3c4d098', 'HTTPStatusCode': 200, 'HTTPHeaders': {'x-amzn-requestid': '67b860cb-321c-49f6-8517-aa96a3c4d098', 'content-type': 'text/xml', 'content-length': '858', 'date': 'Sun, 22 Nov 2020 17:18:17 GMT'}, 'RetryAttempts': 0}}\n"
     ]
    }
   ],
   "source": [
    "response = cfn.list_stack_resources(\n",
    "    StackName=cf_stack_name\n",
    ")\n",
    "print(response)"
   ]
  },
  {
   "cell_type": "code",
   "execution_count": 8,
   "metadata": {},
   "outputs": [
    {
     "name": "stdout",
     "output_type": "stream",
     "text": [
      "eksctl-workshop-addon-iamserviceaccount-kube-Role1-7HVCFDTTQ2ZD\n"
     ]
    }
   ],
   "source": [
    "iam_role_name = response['StackResourceSummaries'][0]['PhysicalResourceId']\n",
    "print(iam_role_name)"
   ]
  },
  {
   "cell_type": "code",
   "execution_count": 9,
   "metadata": {},
   "outputs": [
    {
     "name": "stdout",
     "output_type": "stream",
     "text": [
      "arn:aws:iam::665714183901:role/eksctl-workshop-addon-iamserviceaccount-kube-Role1-7HVCFDTTQ2ZD\n"
     ]
    }
   ],
   "source": [
    "iam_role_arn = iam.get_role(RoleName=iam_role_name)['Role']['Arn']\n",
    "print(iam_role_arn)"
   ]
  },
  {
   "cell_type": "markdown",
   "metadata": {},
   "source": [
    "# Deploy CSI Driver"
   ]
  },
  {
   "cell_type": "code",
   "execution_count": 10,
   "metadata": {},
   "outputs": [
    {
     "name": "stdout",
     "output_type": "stream",
     "text": [
      "Warning: kubectl apply should be used on resource created by either kubectl create --save-config or kubectl apply\n",
      "serviceaccount/fsx-csi-controller-sa configured\n",
      "clusterrole.rbac.authorization.k8s.io/fsx-csi-external-provisioner-role created\n",
      "clusterrolebinding.rbac.authorization.k8s.io/fsx-csi-external-provisioner-binding created\n",
      "deployment.apps/fsx-csi-controller created\n",
      "daemonset.apps/fsx-csi-node created\n",
      "csidriver.storage.k8s.io/fsx.csi.aws.com created\n"
     ]
    }
   ],
   "source": [
    "!kubectl apply -k \"github.com/kubernetes-sigs/aws-fsx-csi-driver/deploy/kubernetes/overlays/stable/?ref=master\"\n"
   ]
  },
  {
   "cell_type": "markdown",
   "metadata": {},
   "source": [
    "Patch the driver deployment to add the service account that you just created, replacing the ARN with the correct role ARN."
   ]
  },
  {
   "cell_type": "code",
   "execution_count": 11,
   "metadata": {},
   "outputs": [
    {
     "name": "stdout",
     "output_type": "stream",
     "text": [
      "serviceaccount/fsx-csi-controller-sa annotated\n"
     ]
    }
   ],
   "source": [
    "!kubectl annotate serviceaccount -n kube-system fsx-csi-controller-sa \\\n",
    " eks.amazonaws.com/role-arn=$iam_role_arn --overwrite=true"
   ]
  },
  {
   "cell_type": "markdown",
   "metadata": {},
   "source": [
    "# Check S3 Bucket For FSX"
   ]
  },
  {
   "cell_type": "code",
   "execution_count": 12,
   "metadata": {},
   "outputs": [],
   "source": [
    "bucket = 's3://fsx-container-demo'"
   ]
  },
  {
   "cell_type": "code",
   "execution_count": 13,
   "metadata": {},
   "outputs": [
    {
     "name": "stdout",
     "output_type": "stream",
     "text": [
      "make_bucket: fsx-container-demo\n"
     ]
    }
   ],
   "source": [
    "!aws s3 mb $bucket"
   ]
  },
  {
   "cell_type": "code",
   "execution_count": 14,
   "metadata": {},
   "outputs": [],
   "source": [
    "!aws s3 ls $bucket"
   ]
  },
  {
   "cell_type": "code",
   "execution_count": 15,
   "metadata": {},
   "outputs": [],
   "source": [
    "!aws s3 ls $bucket --recursive"
   ]
  },
  {
   "cell_type": "markdown",
   "metadata": {},
   "source": [
    "# Download Storage Class Manifest"
   ]
  },
  {
   "cell_type": "code",
   "execution_count": null,
   "metadata": {},
   "outputs": [],
   "source": [
    "!curl -o storageclass.yaml https://raw.githubusercontent.com/kubernetes-sigs/aws-fsx-csi-driver/master/examples/kubernetes/dynamic_provisioning_s3/specs/storageclass.yaml\n",
    "    "
   ]
  },
  {
   "cell_type": "markdown",
   "metadata": {},
   "source": [
    "## Get VPC ID and Subnet ID"
   ]
  },
  {
   "cell_type": "code",
   "execution_count": 19,
   "metadata": {},
   "outputs": [
    {
     "name": "stdout",
     "output_type": "stream",
     "text": [
      "export VPC_ID=vpc-08a961479e87b4848\n",
      "export SUBNET_ID=subnet-069a722e18c7d27db\n"
     ]
    }
   ],
   "source": [
    "%%bash\n",
    "\n",
    "source ~/.bash_profile\n",
    "\n",
    "#### Get VPC ID\n",
    "export VPC_ID=$(aws ec2 describe-vpcs --filters \"Name=tag:Name,Values=eksctl-${AWS_CLUSTER_NAME}-cluster/VPC\" --query \"Vpcs[0].VpcId\" --output text)\n",
    "echo \"export VPC_ID=${VPC_ID}\" | tee -a ~/.bash_profile\n",
    "\n",
    "#### Get Subnet ID\n",
    "export SUBNET_ID=$(aws ec2 describe-subnets --filters \"Name=vpc-id,Values=${VPC_ID}\" --query \"Subnets[0].SubnetId\" --output text)\n",
    "echo \"export SUBNET_ID=${SUBNET_ID}\" | tee -a ~/.bash_profile"
   ]
  },
  {
   "cell_type": "markdown",
   "metadata": {},
   "source": [
    "## Create Security Group"
   ]
  },
  {
   "cell_type": "code",
   "execution_count": 20,
   "metadata": {},
   "outputs": [
    {
     "name": "stdout",
     "output_type": "stream",
     "text": [
      "export SEC_GROUP_ID=sg-00c62d7ceb2e27036\n"
     ]
    }
   ],
   "source": [
    "%%bash\n",
    "\n",
    "source ~/.bash_profile\n",
    "\n",
    "export SEC_GROUP_ID=$(aws ec2 create-security-group --group-name eks-fsx-security-group --vpc-id ${VPC_ID} --description \"FSx for Lustre Security Group\" --query \"GroupId\" --output text)\n",
    "echo \"export SEC_GROUP_ID=${SEC_GROUP_ID}\" | tee -a ~/.bash_profile"
   ]
  },
  {
   "cell_type": "markdown",
   "metadata": {},
   "source": [
    "## Add an ingress rule that opens up port 988 from the 192.168.0.0/16 CIDR range"
   ]
  },
  {
   "cell_type": "code",
   "execution_count": 21,
   "metadata": {},
   "outputs": [],
   "source": [
    "%%bash\n",
    "\n",
    "source ~/.bash_profile\n",
    "\n",
    "aws ec2 authorize-security-group-ingress --group-id ${SEC_GROUP_ID} --protocol tcp --port 988 --cidr 192.168.0.0/16"
   ]
  },
  {
   "cell_type": "markdown",
   "metadata": {},
   "source": [
    "## Update the environment variables in the `storageclass.yaml` file"
   ]
  },
  {
   "cell_type": "code",
   "execution_count": null,
   "metadata": {},
   "outputs": [],
   "source": [
    "!pygmentize fsx/storageclass.yaml"
   ]
  },
  {
   "cell_type": "markdown",
   "metadata": {},
   "source": [
    "# Create FSX Storage Class"
   ]
  },
  {
   "cell_type": "code",
   "execution_count": null,
   "metadata": {},
   "outputs": [],
   "source": [
    "#!kubectl delete -f fsx/storageclass.yaml"
   ]
  },
  {
   "cell_type": "code",
   "execution_count": 22,
   "metadata": {},
   "outputs": [
    {
     "name": "stdout",
     "output_type": "stream",
     "text": [
      "storageclass.storage.k8s.io/fsx-sc created\n"
     ]
    }
   ],
   "source": [
    "!kubectl create -f fsx/storageclass.yaml"
   ]
  },
  {
   "cell_type": "code",
   "execution_count": 23,
   "metadata": {},
   "outputs": [
    {
     "name": "stdout",
     "output_type": "stream",
     "text": [
      "NAME            PROVISIONER             RECLAIMPOLICY   VOLUMEBINDINGMODE      ALLOWVOLUMEEXPANSION   AGE\n",
      "fsx-sc          fsx.csi.aws.com         Delete          Immediate              false                  2s\n",
      "gp2 (default)   kubernetes.io/aws-ebs   Delete          WaitForFirstConsumer   false                  41m\n"
     ]
    }
   ],
   "source": [
    "!kubectl get sc"
   ]
  },
  {
   "cell_type": "markdown",
   "metadata": {},
   "source": [
    "# Create Claim"
   ]
  },
  {
   "cell_type": "code",
   "execution_count": null,
   "metadata": {},
   "outputs": [],
   "source": [
    "#!curl -o claim.yaml https://raw.githubusercontent.com/kubernetes-sigs/aws-fsx-csi-driver/master/examples/kubernetes/dynamic_provisioning_s3/specs/claim.yaml"
   ]
  },
  {
   "cell_type": "code",
   "execution_count": null,
   "metadata": {},
   "outputs": [],
   "source": [
    "!pygmentize fsx/claim.yaml"
   ]
  },
  {
   "cell_type": "code",
   "execution_count": null,
   "metadata": {},
   "outputs": [],
   "source": [
    "#!kubectl delete -f fsx/claim.yaml"
   ]
  },
  {
   "cell_type": "code",
   "execution_count": 24,
   "metadata": {},
   "outputs": [
    {
     "name": "stdout",
     "output_type": "stream",
     "text": [
      "persistentvolumeclaim/fsx-claim created\n"
     ]
    }
   ],
   "source": [
    "!kubectl apply -f fsx/claim.yaml"
   ]
  },
  {
   "cell_type": "code",
   "execution_count": 29,
   "metadata": {},
   "outputs": [
    {
     "name": "stdout",
     "output_type": "stream",
     "text": [
      "NAME        STATUS    VOLUME   CAPACITY   ACCESS MODES   STORAGECLASS   AGE\n",
      "fsx-claim   Pending                                      fsx-sc         8m12s\n"
     ]
    }
   ],
   "source": [
    "!kubectl get pvc fsx-claim"
   ]
  },
  {
   "cell_type": "code",
   "execution_count": 30,
   "metadata": {},
   "outputs": [
    {
     "name": "stdout",
     "output_type": "stream",
     "text": [
      "Name:          fsx-claim\n",
      "Namespace:     default\n",
      "StorageClass:  fsx-sc\n",
      "Status:        Bound\n",
      "Volume:        pvc-630b5a8d-c36d-4040-b0c6-2c5425c1352f\n",
      "Labels:        <none>\n",
      "Annotations:   pv.kubernetes.io/bind-completed: yes\n",
      "               pv.kubernetes.io/bound-by-controller: yes\n",
      "               volume.beta.kubernetes.io/storage-provisioner: fsx.csi.aws.com\n",
      "Finalizers:    [kubernetes.io/pvc-protection]\n",
      "Capacity:      1200Gi\n",
      "Access Modes:  RWX\n",
      "VolumeMode:    Filesystem\n",
      "Mounted By:    <none>\n",
      "Events:\n",
      "  Type     Reason                Age                    From                                                                                      Message\n",
      "  ----     ------                ----                   ----                                                                                      -------\n",
      "  Warning  ProvisioningFailed    3m31s (x2 over 8m32s)  fsx.csi.aws.com_fsx-csi-controller-55bcb55d5d-bpfww_c2f64f0d-2ce6-11eb-b5df-66867e10f3a0  failed to provision volume with StorageClass \"fsx-sc\": rpc error: code = DeadlineExceeded desc = context deadline exceeded\n",
      "  Normal   Provisioning          3m29s (x3 over 13m)    fsx.csi.aws.com_fsx-csi-controller-55bcb55d5d-bpfww_c2f64f0d-2ce6-11eb-b5df-66867e10f3a0  External provisioner is provisioning volume for claim \"default/fsx-claim\"\n",
      "  Normal   ExternalProvisioning  3m28s (x43 over 13m)   persistentvolume-controller                                                               waiting for a volume to be created, either by external provisioner \"fsx.csi.aws.com\" or manually created by system administrator\n"
     ]
    }
   ],
   "source": [
    "!kubectl describe pvc fsx-claim"
   ]
  },
  {
   "cell_type": "markdown",
   "metadata": {},
   "source": [
    "## _Wait for status == Bound_"
   ]
  },
  {
   "cell_type": "markdown",
   "metadata": {},
   "source": [
    "## Update FSX to `autoImportPolicy: NEW_CHANGED`"
   ]
  },
  {
   "cell_type": "code",
   "execution_count": null,
   "metadata": {},
   "outputs": [],
   "source": [
    "fsx = boto3.client('fsx')"
   ]
  },
  {
   "cell_type": "code",
   "execution_count": null,
   "metadata": {},
   "outputs": [],
   "source": [
    "response = fsx.describe_file_systems()\n",
    "fsx_id = response['FileSystems'][0]['FileSystemId']\n",
    "print(fsx_id)"
   ]
  },
  {
   "cell_type": "code",
   "execution_count": null,
   "metadata": {},
   "outputs": [],
   "source": [
    "response = fsx.update_file_system(\n",
    "    FileSystemId=fsx_id,\n",
    "    LustreConfiguration={\n",
    "        'AutoImportPolicy': 'NEW_CHANGED'\n",
    "    }\n",
    ")\n",
    "print(response)"
   ]
  }
 ],
 "metadata": {
  "kernelspec": {
   "display_name": "conda_python3",
   "language": "python",
   "name": "conda_python3"
  },
  "language_info": {
   "codemirror_mode": {
    "name": "ipython",
    "version": 3
   },
   "file_extension": ".py",
   "mimetype": "text/x-python",
   "name": "python",
   "nbconvert_exporter": "python",
   "pygments_lexer": "ipython3",
   "version": "3.6.10"
  }
 },
 "nbformat": 4,
 "nbformat_minor": 4
}
